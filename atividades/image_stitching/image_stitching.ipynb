{
  "nbformat": 4,
  "nbformat_minor": 0,
  "metadata": {
    "colab": {
      "name": "image_stitching.ipynb",
      "provenance": [],
      "mount_file_id": "16qIumC172heuaUlsz8S_FxYZLvTJKNmx",
      "authorship_tag": "ABX9TyOMkFzuzLatpj9lDpOR4EqK",
      "include_colab_link": true
    },
    "kernelspec": {
      "name": "python3",
      "display_name": "Python 3"
    },
    "language_info": {
      "name": "python"
    }
  },
  "cells": [
    {
      "cell_type": "markdown",
      "metadata": {
        "id": "view-in-github",
        "colab_type": "text"
      },
      "source": [
        "<a href=\"https://colab.research.google.com/github/Jacques-Wolbeck/Processamento-Digital-Imagens-UFAL/blob/main/atividades/image_stitching/image_stitching.ipynb\" target=\"_parent\"><img src=\"https://colab.research.google.com/assets/colab-badge.svg\" alt=\"Open In Colab\"/></a>"
      ]
    },
    {
      "cell_type": "code",
      "metadata": {
        "colab": {
          "base_uri": "https://localhost:8080/"
        },
        "id": "YA4003kL0G-7",
        "outputId": "6b08ddbf-012e-4474-fabf-2d0dd8bbcdc0"
      },
      "source": [
        "from google.colab import drive\n",
        "from imutils import paths\n",
        "import numpy as np\n",
        "import imutils\n",
        "import cv2\n",
        "\n",
        "\n",
        "drive.mount('/content/drive')\n",
        "\n",
        "\n",
        "images = []\n",
        "\n",
        "images.append(cv2.imread('/content/drive/MyDrive/images/ic1.jpg'))\n",
        "images.append(cv2.imread('/content/drive/MyDrive/images/ic2.jpg'))\n",
        "images.append(cv2.imread('/content/drive/MyDrive/images/ic3.jpg'))\n",
        "images.append(cv2.imread('/content/drive/MyDrive/images/ic4.jpg'))\n",
        "\n",
        "print(\"Stitching images...\")\n",
        "stitcher = cv2.createStitcher() if imutils.is_cv3() else cv2.Stitcher_create()\n",
        "(status, stitched) = stitcher.stitch(images)\n"
      ],
      "execution_count": null,
      "outputs": [
        {
          "output_type": "stream",
          "name": "stdout",
          "text": [
            "Drive already mounted at /content/drive; to attempt to forcibly remount, call drive.mount(\"/content/drive\", force_remount=True).\n",
            "Stitching images...\n"
          ]
        }
      ]
    },
    {
      "cell_type": "code",
      "metadata": {
        "id": "pSLiM_saFFsk"
      },
      "source": [
        "if status == 0:\n",
        "  stitched = cv2.copyMakeBorder(stitched, 10, 10, 10, 10, cv2.BORDER_CONSTANT, (0,0,0))\n",
        "  gray = cv2.cvtColor(stitched, cv2.COLOR_BGR2GRAY)\n",
        "  thresh = cv2.threshold(gray, 0, 255, cv2.THRESH_BINARY) [1]\n",
        "\n",
        "  cnts = cv2.findContours(thresh.copy(), cv2.RETR_EXTERNAL, cv2.CHAIN_APPROX_SIMPLE)\n",
        "  cnts = imutils.grab_contours(cnts)\n",
        "  c = max(cnts, key= cv2.contourArea)\n",
        "\n",
        "  mask = np.zeros(thresh.shape, dtype=\"uint8\")\n",
        "  (x, y, w, h) = cv2.boundingRect(c)\n",
        "  cv2.rectangle(mask, (x,y), (x + w, y + h), 255, -1)\n",
        "\n",
        "  minRect = mask.copy()\n",
        "  sub = mask.copy()\n",
        "\n",
        "  while cv2.countNonZero(sub) > 0:\n",
        "    minRect = cv2.erode(minRect, None)\n",
        "    sub = cv2.subtract(minRect, thresh)\n",
        "\n",
        "  cnts = cv2.findContours(minRect.copy(), cv2.RETR_EXTERNAL, cv2.CHAIN_APPROX_SIMPLE)\n",
        "  cnts = imutils.grab_contours(cnts)\n",
        "  c = max(cnts, key=cv2.contourArea)\n",
        "  (x, y, w, h) = cv2.boundingRect(c)\n",
        "\n",
        "  stitched = stitched[y:y + h, x:x + w]\n",
        "\n",
        "  cv2.imwrite('/content/drive/MyDrive/images/ic.jpg', stitched)\n",
        "\n",
        "else:\n",
        "\tprint(\"Image stitching failed ({})\".format(status))"
      ],
      "execution_count": null,
      "outputs": []
    }
  ]
}