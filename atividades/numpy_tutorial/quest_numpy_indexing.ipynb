{
  "nbformat": 4,
  "nbformat_minor": 0,
  "metadata": {
    "colab": {
      "name": "quest_numpy_indexing.ipynb",
      "provenance": [],
      "authorship_tag": "ABX9TyPLiQqcmhelZkj/59AtZQZi",
      "include_colab_link": true
    },
    "kernelspec": {
      "name": "python3",
      "display_name": "Python 3"
    },
    "language_info": {
      "name": "python"
    }
  },
  "cells": [
    {
      "cell_type": "markdown",
      "metadata": {
        "id": "view-in-github",
        "colab_type": "text"
      },
      "source": [
        "<a href=\"https://colab.research.google.com/github/Jacques-Wolbeck/Processamento-Digital-Imagens-UFAL/blob/main/atividades/numpy_tutorial/quest_numpy_indexing.ipynb\" target=\"_parent\"><img src=\"https://colab.research.google.com/assets/colab-badge.svg\" alt=\"Open In Colab\"/></a>"
      ]
    },
    {
      "cell_type": "code",
      "metadata": {
        "colab": {
          "base_uri": "https://localhost:8080/"
        },
        "id": "RyWr5zLwoF8m",
        "outputId": "8dccb60b-bb3c-455c-969c-ac54a4265330"
      },
      "source": [
        "import numpy as np\n",
        "\n",
        "#Replace NumPy array elements that doesn’t satisfy the given condition\n",
        "array = np.array([67, 34, 21, 12, 13])\n",
        "array[array < 30.] = 1\n",
        "\n",
        "print(array)\n",
        "\n",
        "#Return the indices of elements where the given condition is satisfied\n",
        "a = np.where(array > 13)\n",
        "print(array[a])\n",
        "\n",
        "#Replace negative value with zero in numpy array\n",
        "array = np.array([-1, 2, 3, 4, 5, -6])\n",
        "print(np.where(array < 0, 0, array))"
      ],
      "execution_count": null,
      "outputs": [
        {
          "output_type": "stream",
          "name": "stdout",
          "text": [
            "[67 34  1  1  1]\n",
            "[67 34]\n",
            "[0 2 3 4 5 0]\n"
          ]
        }
      ]
    },
    {
      "cell_type": "code",
      "metadata": {
        "colab": {
          "base_uri": "https://localhost:8080/"
        },
        "id": "j-htLITqoRxh",
        "outputId": "200bf727-0719-4e71-a5f5-8da6de876add"
      },
      "source": [
        "#Find indices of elements equal to zero in a NumPy array\n",
        "array = np.array([  [0, 1, 2],\n",
        "                    [3, 4, 0],\n",
        "                    [6, 7, 0]])\n",
        "print(np.argwhere(array == 0))\n",
        "\n",
        "#Remove columns in Numpy array that contains non-numeric values\n",
        "array = np.array([[2, 5, np.nan],\n",
        "                  [8, 9, np.nan]])\n",
        "  \n",
        "print(array[:, ~np.isnan(array).any(axis=0)])\n",
        "\n",
        "#Access different rows of a multidimensional NumPy array\n",
        "array = np.array([[221, 10, 3, 10], \n",
        "                [40, 5, 266, 7], \n",
        "                [33, 428, 9, 12]])\n",
        "print(array[1])\n",
        "\n",
        "#Get row numbers of NumPy array having element larger than X\n",
        "x = 78\n",
        "print(np.where(np.any(array > x, axis = 1)))"
      ],
      "execution_count": null,
      "outputs": [
        {
          "output_type": "stream",
          "name": "stdout",
          "text": [
            "[[0 0]\n",
            " [1 2]\n",
            " [2 2]]\n",
            "[[2. 5.]\n",
            " [8. 9.]]\n",
            "[ 40   5 266   7]\n",
            "(array([0, 1, 2]),)\n"
          ]
        }
      ]
    },
    {
      "cell_type": "code",
      "metadata": {
        "colab": {
          "base_uri": "https://localhost:8080/"
        },
        "id": "TAQ-45eKoXud",
        "outputId": "bcfd881b-cc9f-4c2c-da4c-24ae196b01f0"
      },
      "source": [
        "#Get filled the diagonals of NumPy array\n",
        "np.fill_diagonal(array, 5)\n",
        "print(array)\n",
        "\n",
        "#Check elements present in the NumPy array\n",
        "array1 = np.array([1, 2, 3, 4, 5])\n",
        "array2 = [1, 3, 5]\n",
        "print(np.isin(array1, array2))\n",
        "\n",
        "#Combined array index by index\n",
        "array1 = np.array([1, 2, 3])\n",
        "array2 = np.array([4, 5, 6])\n",
        "  \n",
        "print(np.dstack((array1, array2)))"
      ],
      "execution_count": null,
      "outputs": [
        {
          "output_type": "stream",
          "name": "stdout",
          "text": [
            "[[  5  10   3  10]\n",
            " [ 40   5 266   7]\n",
            " [ 33 428   5  12]]\n",
            "[ True False  True False  True]\n",
            "[[[1 4]\n",
            "  [2 5]\n",
            "  [3 6]]]\n"
          ]
        }
      ]
    }
  ]
}