{
  "nbformat": 4,
  "nbformat_minor": 0,
  "metadata": {
    "colab": {
      "name": "quest_numpy_random.ipynb",
      "provenance": [],
      "authorship_tag": "ABX9TyPAz4dtLhitLsvd3tJ6vo/X",
      "include_colab_link": true
    },
    "kernelspec": {
      "name": "python3",
      "display_name": "Python 3"
    },
    "language_info": {
      "name": "python"
    }
  },
  "cells": [
    {
      "cell_type": "markdown",
      "metadata": {
        "id": "view-in-github",
        "colab_type": "text"
      },
      "source": [
        "<a href=\"https://colab.research.google.com/github/Jacques-Wolbeck/Processamento-Digital-Imagens-UFAL/blob/main/atividades/numpy_tutorial/quest_numpy_random.ipynb\" target=\"_parent\"><img src=\"https://colab.research.google.com/assets/colab-badge.svg\" alt=\"Open In Colab\"/></a>"
      ]
    },
    {
      "cell_type": "code",
      "metadata": {
        "colab": {
          "base_uri": "https://localhost:8080/"
        },
        "id": "F2LXKsSQo9T2",
        "outputId": "8418f4c6-5ea8-43d6-fd33-98f9b20f4e48"
      },
      "source": [
        "import matplotlib.pyplot as plt\n",
        "import numpy as np\n",
        "import random\n",
        "import numpy.matlib\n",
        "\n",
        "\n",
        "#Create a Numpy array with random values\n",
        "matrix = np.empty([2, 2], dtype = int) \n",
        "\n",
        "#Choose elements from the list with different probability using NumPy\n",
        "n_list = [5, 6, 7, 8, 9]\n",
        "print(np.random.choice(n_list, 3, p = [0, 0, 0.5, 0.5, 0]))\n",
        "\n",
        "#Get weighted random choice in Python\n",
        "print(random.choices(n_list, weights=(10, 20, 30, 40, 50), k = 5))\n",
        "\n",
        "#Generate Random Numbers From The Uniform Distribution using NumPy\n",
        "print(np.random.uniform(0, 15, 5))"
      ],
      "execution_count": null,
      "outputs": [
        {
          "output_type": "stream",
          "name": "stdout",
          "text": [
            "[7 8 8]\n",
            "[9, 8, 8, 6, 9]\n",
            "[ 8.33779872 11.92542721  2.45517906  5.28375077 14.80807882]\n"
          ]
        }
      ]
    },
    {
      "cell_type": "code",
      "metadata": {
        "colab": {
          "base_uri": "https://localhost:8080/",
          "height": 269
        },
        "id": "0nX5u2NkpJMi",
        "outputId": "955c35bc-f733-4c5e-e666-8c47ebc31a71"
      },
      "source": [
        "#Get Random Elements form geometric distribution\n",
        "array = np.random.geometric(0.5, 1000)\n",
        "count, bins, ignored = plt.hist(array, 60, density = True)\n",
        "plt.show()"
      ],
      "execution_count": null,
      "outputs": [
        {
          "output_type": "display_data",
          "data": {
            "image/png": "[encoded data removed]",
            "text/plain": [
              "<Figure size 432x288 with 1 Axes>"
            ]
          },
          "metadata": {
            "needs_background": "light"
          }
        }
      ]
    },
    {
      "cell_type": "code",
      "metadata": {
        "colab": {
          "base_uri": "https://localhost:8080/",
          "height": 317
        },
        "id": "NUY2bUh_pXuH",
        "outputId": "67606c8a-9fc5-44b0-c577-fa903b419473"
      },
      "source": [
        "#Get Random elements from Laplace distribution\n",
        "array = np.random.laplace(1.2, 16, 1000)\n",
        "count, bins, ignored = plt.hist(array, 60, density = True)\n",
        "plt.show()\n",
        "\n",
        "#Return a Matrix of random values from a uniform distribution\n",
        "print(np.matlib.rand((3, 3), 4)) "
      ],
      "execution_count": null,
      "outputs": [
        {
          "output_type": "display_data",
          "data": {
            "image/png": "[encoded data removed]",
            "text/plain": [
              "<Figure size 432x288 with 1 Axes>"
            ]
          },
          "metadata": {
            "needs_background": "light"
          }
        },
        {
          "output_type": "stream",
          "name": "stdout",
          "text": [
            "[[0.97286801 0.46596426 0.65457731]\n",
            " [0.18458765 0.70293254 0.69155222]\n",
            " [0.45244739 0.35312996 0.55771419]]\n"
          ]
        }
      ]
    }
  ]
}