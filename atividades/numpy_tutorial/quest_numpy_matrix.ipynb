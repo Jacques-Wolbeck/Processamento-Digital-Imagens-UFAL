{
  "nbformat": 4,
  "nbformat_minor": 0,
  "metadata": {
    "colab": {
      "name": "quest_numpy_matrix.ipynb",
      "provenance": [],
      "authorship_tag": "ABX9TyPCSHZFtYJ7wco10z0bOGNJ",
      "include_colab_link": true
    },
    "kernelspec": {
      "name": "python3",
      "display_name": "Python 3"
    },
    "language_info": {
      "name": "python"
    }
  },
  "cells": [
    {
      "cell_type": "markdown",
      "metadata": {
        "id": "view-in-github",
        "colab_type": "text"
      },
      "source": [
        "<a href=\"https://colab.research.google.com/github/Jacques-Wolbeck/Processamento-Digital-Imagens-UFAL/blob/main/atividades/numpy_tutorial/quest_numpy_matrix.ipynb\" target=\"_parent\"><img src=\"https://colab.research.google.com/assets/colab-badge.svg\" alt=\"Open In Colab\"/></a>"
      ]
    },
    {
      "cell_type": "code",
      "metadata": {
        "colab": {
          "base_uri": "https://localhost:8080/"
        },
        "id": "-hEJ9bTnnIBH",
        "outputId": "280da680-0356-4c3f-a6c7-9c257b703318"
      },
      "source": [
        "import numpy as np\n",
        "from numpy import linalg as LA\n",
        "\n",
        "\n",
        "#The maximum value from given matrix\n",
        "matrix = np.matrix('[9, 2; 8, 3]')\n",
        "print(matrix.max())\n",
        "\n",
        "#The minimum value from given matrix\n",
        "print(matrix.min())\n",
        "\n",
        "#the number of rows and columns of a given matrix using NumPy\n",
        "matrix1 = np.arange(1,22).reshape((3, 7))\n",
        "print(matrix1.shape)\n",
        "\n",
        "#Select the elements from a given matrix\n",
        "print(matrix.take(0,1))\n",
        "\n",
        "#The sum of values in a matrix\n",
        "print(matrix.sum())"
      ],
      "execution_count": null,
      "outputs": [
        {
          "output_type": "stream",
          "name": "stdout",
          "text": [
            "9\n",
            "2\n",
            "(3, 7)\n",
            "[[9 8]]\n",
            "22\n"
          ]
        }
      ]
    },
    {
      "cell_type": "code",
      "metadata": {
        "colab": {
          "base_uri": "https://localhost:8080/"
        },
        "id": "7wT4dJdPnWtx",
        "outputId": "f621b1f4-6b0b-4153-cb58-02518d372b0a"
      },
      "source": [
        "#The sum of the diagonal elements of a NumPy array\n",
        "array = np.array([[67, 25, 15],\n",
        "                    [30, 14, 2],\n",
        "                    [11, 125, 83],\n",
        "                   ])\n",
        "print(np.trace(array))\n",
        "\n",
        "#Adding and Subtracting Matrices in Python\n",
        "a = np.array([[1, 2], [3, 4]])\n",
        "b = np.array([[4, 5], [6, 7]])\n",
        "\n",
        "print(np.add(a,b))\n",
        "\n",
        "#Matrix Multiplication in NumPy\n",
        "print(np.dot(a,b))\n",
        "\n",
        "#Get the eigen values of a matrix\n",
        "print(LA.eigvals([[1, 2], [3, 4]]))\n",
        "\n",
        "#Calculate the determinant of a matrix using NumPy\n",
        "print(int(np.linalg.det(a)))\n"
      ],
      "execution_count": null,
      "outputs": [
        {
          "output_type": "stream",
          "name": "stdout",
          "text": [
            "164\n",
            "[[ 5  7]\n",
            " [ 9 11]]\n",
            "[[16 19]\n",
            " [36 43]]\n",
            "[-0.37228132  5.37228132]\n",
            "-2\n"
          ]
        }
      ]
    },
    {
      "cell_type": "code",
      "metadata": {
        "colab": {
          "base_uri": "https://localhost:8080/"
        },
        "id": "L9bU_AgXngBu",
        "outputId": "eb7811b6-6f0f-471f-9b56-6007cd6fd0ad"
      },
      "source": [
        "# Calculating the inverse of the matrix\n",
        "matrix = np.array([[-9, 2, 1],\n",
        "              [8, -2, 5],\n",
        "              [5, 1, 0]])\n",
        "print(np.linalg.inv(matrix))\n",
        "\n",
        "#Multiply matrices of complex numbers using NumPy in Python\n",
        "x = np.array([5+3j, 5+5j])\n",
        "y = np.array([2+9j, 1+2j])\n",
        "\n",
        "print(np.vdot(x, y))"
      ],
      "execution_count": null,
      "outputs": [
        {
          "output_type": "stream",
          "name": "stdout",
          "text": [
            "[[-0.04424779  0.00884956  0.10619469]\n",
            " [ 0.22123894 -0.04424779  0.46902655]\n",
            " [ 0.15929204  0.16814159  0.01769912]]\n",
            "(52+44j)\n"
          ]
        }
      ]
    },
    {
      "cell_type": "code",
      "metadata": {
        "colab": {
          "base_uri": "https://localhost:8080/"
        },
        "id": "TAQg-yovni3v",
        "outputId": "a5b17ff6-d915-4a40-d618-502708ad62a7"
      },
      "source": [
        "#Compute the covariance matrix of two given NumPy arrays\n",
        "array1 = np.array([3, 1, 6])\n",
        "array2 = np.array([8, 4, 2])\n",
        "\n",
        "print(np.cov(array1, array2))\n",
        "\n",
        "#Compute the Kronecker product of two mulitdimension NumPy arrays\n",
        "array1 = np.array([[1, 2], [3, 4]])\n",
        "array2 = np.array([[5, 6], [7, 8]])\n",
        "\n",
        "print(np.kron(array1, array2))\n",
        "\n",
        "#Convert the matrix into a list\n",
        "matrix= np.matrix('[1, 2, 3, 4]')\n",
        "print(matrix.tolist())\n"
      ],
      "execution_count": null,
      "outputs": [
        {
          "output_type": "stream",
          "name": "stdout",
          "text": [
            "[[ 6.33333333 -3.33333333]\n",
            " [-3.33333333  9.33333333]]\n",
            "[[ 5  6 10 12]\n",
            " [ 7  8 14 16]\n",
            " [15 18 20 24]\n",
            " [21 24 28 32]]\n",
            "[[1, 2, 3, 4]]\n"
          ]
        }
      ]
    }
  ]
}