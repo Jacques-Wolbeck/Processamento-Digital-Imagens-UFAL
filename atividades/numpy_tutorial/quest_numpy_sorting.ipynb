{
  "nbformat": 4,
  "nbformat_minor": 0,
  "metadata": {
    "colab": {
      "name": "quest_numpy_sorting.ipynb",
      "provenance": [],
      "authorship_tag": "ABX9TyPAleTXh4H879BsZ5qE2bRt",
      "include_colab_link": true
    },
    "kernelspec": {
      "name": "python3",
      "display_name": "Python 3"
    },
    "language_info": {
      "name": "python"
    }
  },
  "cells": [
    {
      "cell_type": "markdown",
      "metadata": {
        "id": "view-in-github",
        "colab_type": "text"
      },
      "source": [
        "<a href=\"https://colab.research.google.com/github/Jacques-Wolbeck/Processamento-Digital-Imagens-UFAL/blob/main/atividades/numpy_tutorial/quest_numpy_sorting.ipynb\" target=\"_parent\"><img src=\"https://colab.research.google.com/assets/colab-badge.svg\" alt=\"Open In Colab\"/></a>"
      ]
    },
    {
      "cell_type": "code",
      "metadata": {
        "colab": {
          "base_uri": "https://localhost:8080/"
        },
        "id": "HJtGhcS2pr36",
        "outputId": "3a8d8d33-bd1d-476e-92c5-d9b26c0e4195"
      },
      "source": [
        "import numpy as np\n",
        "\n",
        "\n",
        "#Get the indices of the sorted array using NumPy in Python\n",
        "array = np.array([1, 2, 3, 4, 5])\n",
        "print(array)\n",
        "idx = np.argsort(array)\n",
        "print(idx)\n",
        "\n",
        "\n",
        "#Finding the k smallest values of a NumPy array\n",
        "array = np.array([67, 11, 2, 6, 8, 10, 45])\n",
        "k = 3\n",
        "result = np.argpartition(array, k)\n",
        "  \n",
        "print(\"k = \",k)\n",
        "print(array[result[:k]])"
      ],
      "execution_count": null,
      "outputs": [
        {
          "output_type": "stream",
          "name": "stdout",
          "text": [
            "[1 2 3 4 5]\n",
            "[0 1 2 3 4]\n",
            "k =  3\n",
            "[6 2 8]\n"
          ]
        }
      ]
    },
    {
      "cell_type": "code",
      "metadata": {
        "colab": {
          "base_uri": "https://localhost:8080/"
        },
        "id": "vfTE1uXQr9X7",
        "outputId": "f77829f3-8e52-467d-9b41-d6cfb0f5b5b7"
      },
      "source": [
        "#Get the n-largest values of an array using NumPy\n",
        "array = np.array([3, 1,  0, 5, 4, 4, 9])\n",
        "\n",
        "sorted_index_array = np.argsort(array)\n",
        "sorted_array = array[sorted_index_array]\n",
        "  \n",
        "print(\"Sorted array:\", sorted_array)\n",
        "n = 4\n",
        "result = sorted_array[-n : ]\n",
        "  \n",
        "print(\"{} largest value:\".format(n), result)\n",
        "\n",
        "#Sort the values in a matrix\n",
        "matrix = np.matrix('[8, 0, 2; 11, 30, 12; 43, 25, 16]')\n",
        "matrix.sort()\n",
        "print(matrix)\n",
        "\n",
        "#Find the indices into a sorted array\n",
        "array = [1, 2, 3, 4, 5]\n",
        "num = [3, 8, 0]\n",
        "\n",
        "idx = np.searchsorted(array, num)\n",
        "print (idx)\n"
      ],
      "execution_count": null,
      "outputs": [
        {
          "output_type": "stream",
          "name": "stdout",
          "text": [
            "Sorted array: [0 1 3 4 4 5 9]\n",
            "4 largest value: [4 4 5 9]\n",
            "[[ 0  2  8]\n",
            " [11 12 30]\n",
            " [16 25 43]]\n",
            "[2 5 0]\n"
          ]
        }
      ]
    }
  ]
}