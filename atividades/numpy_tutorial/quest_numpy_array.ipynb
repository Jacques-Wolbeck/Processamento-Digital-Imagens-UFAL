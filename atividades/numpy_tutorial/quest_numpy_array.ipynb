{
  "nbformat": 4,
  "nbformat_minor": 0,
  "metadata": {
    "colab": {
      "name": "quest_numpy_array.ipynb",
      "provenance": [],
      "authorship_tag": "ABX9TyOqVjOozd0anz/QXeNkKD8A",
      "include_colab_link": true
    },
    "kernelspec": {
      "name": "python3",
      "display_name": "Python 3"
    },
    "language_info": {
      "name": "python"
    }
  },
  "cells": [
    {
      "cell_type": "markdown",
      "metadata": {
        "id": "view-in-github",
        "colab_type": "text"
      },
      "source": [
        "<a href=\"https://colab.research.google.com/github/Jacques-Wolbeck/Processamento-Digital-Imagens-UFAL/blob/main/atividades/numpy_tutorial/quest_numpy_array.ipynb\" target=\"_parent\"><img src=\"https://colab.research.google.com/assets/colab-badge.svg\" alt=\"Open In Colab\"/></a>"
      ]
    },
    {
      "cell_type": "code",
      "metadata": {
        "colab": {
          "base_uri": "https://localhost:8080/"
        },
        "id": "WA8i2hcJl1-U",
        "outputId": "661afd32-9c76-41eb-ce88-9e7b43379720"
      },
      "source": [
        "import numpy as np\n",
        "\n",
        "#Array filled with all zeros\n",
        "zeros = np.zeros((3,3), dtype = int)\n",
        "#Array filled with all ones\n",
        "ones = np.ones((3,3), dtype = int)\n",
        "\n",
        "print(ones)\n",
        "print(zeros)"
      ],
      "execution_count": null,
      "outputs": [
        {
          "output_type": "stream",
          "name": "stdout",
          "text": [
            "[[1 1 1]\n",
            " [1 1 1]\n",
            " [1 1 1]]\n",
            "[[0 0 0]\n",
            " [0 0 0]\n",
            " [0 0 0]]\n"
          ]
        }
      ]
    },
    {
      "cell_type": "code",
      "metadata": {
        "colab": {
          "base_uri": "https://localhost:8080/"
        },
        "id": "Cih2df8xmMJv",
        "outputId": "e7f26140-6afb-4d26-e4f4-7d60ad8d8f73"
      },
      "source": [
        "#Check whether a Numpy array contains a specified row\n",
        "array = np.array([[1,2,3],\n",
        "                 [3,3,5],\n",
        "                 [6,1,8]])\n",
        "print([3,6,5] in array.tolist())\n",
        "\n",
        "#Remove rows in Numpy array that contains non-numeric values\n",
        "nan_array = np.array([[9, 5, 8],\n",
        "                  [9, np.nan, np.nan]])\n",
        "  \n",
        "print(nan_array[~np.isnan(nan_array).any(axis=1)])\n",
        "\n",
        "#The number of occurrences of a sequence in a NumPy array\n",
        "print(repr(array).count(\"3\"))"
      ],
      "execution_count": null,
      "outputs": [
        {
          "output_type": "stream",
          "name": "stdout",
          "text": [
            "False\n",
            "[[9. 5. 8.]]\n",
            "3\n"
          ]
        }
      ]
    },
    {
      "cell_type": "code",
      "metadata": {
        "colab": {
          "base_uri": "https://localhost:8080/"
        },
        "id": "GVB0_5W1mXby",
        "outputId": "18e92522-bad2-4dc6-d30d-a20c4d87144c"
      },
      "source": [
        "#The most frequent value in a NumPy array\n",
        "x = np.array([2,2,2,2,5,5,6,43,21,2])\n",
        "print(np.bincount(x).argmax())\n",
        "\n",
        "#Combining a one and a two-dimensional NumPy Array\n",
        "array_1d = np.arange(6)\n",
        "array_2d = np.arange(18).reshape(3,6)\n",
        "  \n",
        "for a, b in np.nditer([array_1d, array_2d]):\n",
        "    print(\"%d:%d\" % (a, b),)\n",
        "\n",
        "#add a border around a NumPy array\n",
        "array = np.ones((2, 2))\n",
        "\n",
        "array = np.pad(array, pad_width=1, mode='constant',\n",
        "               constant_values=0)\n",
        "print(array)"
      ],
      "execution_count": null,
      "outputs": [
        {
          "output_type": "stream",
          "name": "stdout",
          "text": [
            "2\n",
            "0:0\n",
            "1:1\n",
            "2:2\n",
            "3:3\n",
            "4:4\n",
            "5:5\n",
            "0:6\n",
            "1:7\n",
            "2:8\n",
            "3:9\n",
            "4:10\n",
            "5:11\n",
            "0:12\n",
            "1:13\n",
            "2:14\n",
            "3:15\n",
            "4:16\n",
            "5:17\n",
            "[[0. 0. 0. 0.]\n",
            " [0. 1. 1. 0.]\n",
            " [0. 1. 1. 0.]\n",
            " [0. 0. 0. 0.]]\n"
          ]
        }
      ]
    },
    {
      "cell_type": "code",
      "metadata": {
        "colab": {
          "base_uri": "https://localhost:8080/"
        },
        "id": "76tan47nmmJz",
        "outputId": "db978f40-18c6-4e85-ea42-d5291b283080"
      },
      "source": [
        "#Compare two NumPy arrays\n",
        "a = np.array([10, 99, 79])\n",
        "b = np.array([87, 43, 145])\n",
        "\n",
        "print(\"a >= b\")\n",
        "print(np.greater_equal(a, b))\n",
        "\n",
        "#Check whether specified values are present in NumPy array\n",
        "print(10 in a)\n",
        "\n",
        "#Flatten a Matrix in Python using NumPy\n",
        "arr = np.array([[8, 3], \n",
        "                [1, 9]])\n",
        "  \n",
        "flatten_arr = arr.flatten()\n",
        "print(flatten_arr)\n",
        "\n",
        "#Move axes of an array to new positions\n",
        "arr = np.zeros((1, 2, 3, 4))\n",
        "arr1 = np.moveaxis(arr, 0, -1).shape \n",
        "print(arr1)"
      ],
      "execution_count": null,
      "outputs": [
        {
          "output_type": "stream",
          "name": "stdout",
          "text": [
            "a >= b\n",
            "[False  True False]\n",
            "True\n",
            "[8 3 1 9]\n",
            "(2, 3, 4, 1)\n"
          ]
        }
      ]
    },
    {
      "cell_type": "code",
      "metadata": {
        "colab": {
          "base_uri": "https://localhost:8080/"
        },
        "id": "4gC9fD9nmyjt",
        "outputId": "dfcc2126-c8ff-41c8-8907-849378ed74c8"
      },
      "source": [
        "#Move axes of an array to new positions\n",
        "arr = np.zeros((1, 2, 3, 4))\n",
        "arr1 = np.moveaxis(arr, 0, -1).shape \n",
        "print(arr1)\n",
        "\n",
        "#Interchange two axes of an array\n",
        "arr = np.array([[2, 4, 6]])\n",
        "arr1 = np.swapaxes(arr, 0, 1)\n",
        "print(arr1)\n",
        "\n",
        "#Counts the number of non-zero values in the array\n",
        "arr = [[0, 3, 9, 5, 0],\n",
        "       [0, 5, 63, 21, 7]]\n",
        "arr1 = np.count_nonzero(arr)\n",
        "print(arr1)\n",
        "\n",
        "#Count the number of elements along a given axis\n",
        "arr = np.array([[7, 2, 1, 4], \n",
        "                [1, 1, 2, 8]])\n",
        "print(np.size(arr, 0))\n",
        "\n",
        "#Trim the leading and/or trailing zeros from a 1-D array\n",
        "arr = np.array((6, 0, 0, 2, 1, 0, 7, 0, 6, 2, 9, 0, 10, 8, 0))\n",
        "print(np.trim_zeros(arr))\n",
        "\n",
        "#Change data type of given numpy array\n",
        "arr = arr.astype('float64')\n",
        "print(arr)\n",
        "\n",
        "#Make a NumPy array read-only\n",
        "arr.flags.writeable = False"
      ],
      "execution_count": null,
      "outputs": [
        {
          "output_type": "stream",
          "name": "stdout",
          "text": [
            "(2, 3, 4, 1)\n",
            "[[2]\n",
            " [4]\n",
            " [6]]\n",
            "7\n",
            "2\n",
            "[ 6  0  0  2  1  0  7  0  6  2  9  0 10  8]\n",
            "[ 6.  0.  0.  2.  1.  0.  7.  0.  6.  2.  9.  0. 10.  8.  0.]\n"
          ]
        }
      ]
    }
  ]
}