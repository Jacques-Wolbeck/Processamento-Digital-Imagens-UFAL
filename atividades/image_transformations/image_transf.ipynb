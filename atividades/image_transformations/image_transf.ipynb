{
  "nbformat": 4,
  "nbformat_minor": 0,
  "metadata": {
    "colab": {
      "name": "image_transf.ipynb",
      "provenance": [],
      "mount_file_id": "1no-S2h6DXGDUyWvENRD7Gw8xdFX6nWZS",
      "authorship_tag": "ABX9TyONOWG9V3QwxcbCIWlkpmd8",
      "include_colab_link": true
    },
    "kernelspec": {
      "name": "python3",
      "display_name": "Python 3"
    },
    "language_info": {
      "name": "python"
    }
  },
  "cells": [
    {
      "cell_type": "markdown",
      "metadata": {
        "id": "view-in-github",
        "colab_type": "text"
      },
      "source": [
        "<a href=\"https://colab.research.google.com/github/Jacques-Wolbeck/Processamento-Digital-Imagens-UFAL/blob/main/atividades/image_transformations/image_transf.ipynb\" target=\"_parent\"><img src=\"https://colab.research.google.com/assets/colab-badge.svg\" alt=\"Open In Colab\"/></a>"
      ]
    },
    {
      "cell_type": "code",
      "metadata": {
        "colab": {
          "base_uri": "https://localhost:8080/"
        },
        "id": "ba_6F2qxxmcr",
        "outputId": "8df6a649-c377-43d1-f65d-6fa0c092be38"
      },
      "source": [
        "from google.colab import drive\n",
        "from PIL import Image\n",
        "import numpy as np\n",
        "import cv2\n",
        "\n",
        "drive.mount('/content/drive')\n",
        "#(1)Crop and flip an image using Numpy array indexing.\n",
        "img_np = np.array(Image.open('/content/drive/MyDrive/images/maceio.jpg'))\n",
        "#(rows_pixels, columns_pixels, color_channels) \n",
        "print(img_np.shape)\n",
        "img_crop = img_np[200:400, 200:400]\n",
        "Image.fromarray(img_crop).save('/content/drive/MyDrive/images/maceio_crop.jpg')\n",
        "Image.fromarray(np.flipud(img_np)).save('/content/drive/MyDrive/images/maceio_flipud.jpg')\n"
      ],
      "execution_count": null,
      "outputs": [
        {
          "output_type": "stream",
          "name": "stdout",
          "text": [
            "Drive already mounted at /content/drive; to attempt to forcibly remount, call drive.mount(\"/content/drive\", force_remount=True).\n",
            "(638, 1500, 3)\n"
          ]
        }
      ]
    },
    {
      "cell_type": "code",
      "metadata": {
        "colab": {
          "base_uri": "https://localhost:8080/"
        },
        "id": "vHUHVSdAKJ8x",
        "outputId": "2f031912-15f2-41bb-d836-5c3571773f93"
      },
      "source": [
        "#(2)Implement image translation using Numpy and OpenCV.\n",
        "\n",
        "img_cv = cv2.imread('/content/drive/MyDrive/images/maceio.jpg')\n",
        "\n",
        "width = img_cv.shape[1]\n",
        "height = img_cv.shape[1]\n",
        "# |1 0 tx| tx = horizontal\n",
        "# |0 1 ty| ty = vertical\n",
        "matrix = np.float32([[1, 0, 100], [0, 1, 200]])\n",
        "img_translation = cv2.warpAffine(img_cv, matrix, (width, height))\n",
        "\n",
        "cv2.imwrite('/content/drive/MyDrive/images/maceio_cv_transl.jpg', img_translation)"
      ],
      "execution_count": null,
      "outputs": [
        {
          "output_type": "execute_result",
          "data": {
            "text/plain": [
              "True"
            ]
          },
          "metadata": {},
          "execution_count": 26
        }
      ]
    },
    {
      "cell_type": "code",
      "metadata": {
        "id": "eY4FZRSNKnNZ"
      },
      "source": [
        "#(3)Implement image rotation using Numpy and OpenCV.\n",
        "#OpenCv\n",
        "img_cv_rotate = cv2.rotate(img_cv, cv2.ROTATE_90_CLOCKWISE)\n",
        "cv2.imwrite('/content/drive/MyDrive/images/maceio_cv_rotate.jpg', img_cv_rotate)\n",
        "\n",
        "#Numpy\n",
        "#rotate 270 degrees\n",
        "Image.fromarray(np.rot90(img_np, 3)).save('/content/drive/MyDrive/images/maceio_numpy_rotate.jpg')"
      ],
      "execution_count": null,
      "outputs": []
    },
    {
      "cell_type": "code",
      "metadata": {
        "colab": {
          "base_uri": "https://localhost:8080/"
        },
        "id": "FhFRW4aQRP4n",
        "outputId": "f3d13145-8bfd-44bc-ca22-3f42217a802d"
      },
      "source": [
        "#(4)Implement image resizing using OpenCV.\n",
        "\n",
        "resiz_width = int(width * 0.2)\n",
        "resiz_height = int(height * 0.2)\n",
        "\n",
        "dsize = (resiz_width, resiz_height)\n",
        "img_resized = cv2.resize(img_cv, dsize)\n",
        "print(img_resized.shape)\n",
        "\n",
        "cv2.imwrite('/content/drive/MyDrive/images/maceio_cv_resized.jpg', img_resized)"
      ],
      "execution_count": null,
      "outputs": [
        {
          "output_type": "stream",
          "name": "stdout",
          "text": [
            "(300, 300, 3)\n"
          ]
        },
        {
          "output_type": "execute_result",
          "data": {
            "text/plain": [
              "True"
            ]
          },
          "metadata": {},
          "execution_count": 35
        }
      ]
    },
    {
      "cell_type": "code",
      "metadata": {
        "colab": {
          "base_uri": "https://localhost:8080/"
        },
        "id": "qoy_4BWkTX-Z",
        "outputId": "b1708d07-d67d-4327-9c8e-4be94d56f025"
      },
      "source": [
        "#(5)Implement bitwise operations: AND, OR, XOR.\n",
        "\n",
        "# draw a rectangle\n",
        "rectangle = np.zeros((300, 300), dtype=\"uint8\")\n",
        "cv2.rectangle(rectangle, (25, 25), (275, 275), 255, -1)\n",
        "\n",
        "# draw a circle\n",
        "circle = np.zeros((300, 300), dtype = \"uint8\")\n",
        "cv2.circle(circle, (150, 150), 150, 255, -1)\n",
        "\n",
        "bitw_and = cv2.bitwise_and(rectangle, circle)\n",
        "bitw_or = cv2.bitwise_or(rectangle, circle)\n",
        "bitw_xor = cv2.bitwise_xor(rectangle, circle)\n",
        "\n",
        "cv2.imwrite('/content/drive/MyDrive/images/and.jpg', bitw_and)\n",
        "cv2.imwrite('/content/drive/MyDrive/images/or.jpg', bitw_or)\n",
        "cv2.imwrite('/content/drive/MyDrive/images/xor.jpg', bitw_xor)\n"
      ],
      "execution_count": null,
      "outputs": [
        {
          "output_type": "execute_result",
          "data": {
            "text/plain": [
              "True"
            ]
          },
          "metadata": {},
          "execution_count": 36
        }
      ]
    },
    {
      "cell_type": "code",
      "metadata": {
        "colab": {
          "base_uri": "https://localhost:8080/"
        },
        "id": "N0iVGUQ7XYG7",
        "outputId": "42d9f46f-467e-4774-c786-0aeb3a0ad2b5"
      },
      "source": [
        "#(6) Implement the \"mask\" operation, where a third image 'h' \n",
        "#contains only a Region of Interest (ROI -- defined by the second image mask 'g') \n",
        "#obtained from the input image 'f'. Note that this Region can be of any shape.\n",
        "\n",
        "img_f = cv2.imread('/content/drive/MyDrive/images/maceio.jpg')\n",
        "img_g = cv2.imread('/content/drive/MyDrive/images/circle.jpg')\n",
        "\n",
        "\n",
        "img_g = cv2.resize(img_g, img_f.shape[1::-1])\n",
        "\n",
        "\n",
        "img_h = cv2.bitwise_and(img_f, img_g)\n",
        "cv2.imwrite('/content/drive/MyDrive/images/img_h.jpg', img_h)"
      ],
      "execution_count": null,
      "outputs": [
        {
          "output_type": "execute_result",
          "data": {
            "text/plain": [
              "True"
            ]
          },
          "metadata": {},
          "execution_count": 42
        }
      ]
    }
  ]
}